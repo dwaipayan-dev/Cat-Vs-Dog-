{
 "cells": [
  {
   "cell_type": "code",
   "execution_count": 1,
   "metadata": {},
   "outputs": [
    {
     "name": "stderr",
     "output_type": "stream",
     "text": [
      "Using TensorFlow backend.\n"
     ]
    }
   ],
   "source": [
    "import numpy as np\n",
    "import pandas as pd\n",
    "import os\n",
    "import tensorflow as tf\n",
    "import PIL\n",
    "from keras import layers\n",
    "from keras.models import Model\n",
    "from keras.layers import Input, Activation, Dense, Conv2D, Flatten, ZeroPadding2D, BatchNormalization\n",
    "from keras.layers import MaxPooling2D, AveragePooling2D, Dropout, GlobalMaxPooling2D\n",
    "from keras.utils import to_categorical\n",
    "from keras.preprocessing.image import ImageDataGenerator, array_to_img, img_to_array\n",
    "from random import seed \n",
    "from random import randint"
   ]
  },
  {
   "cell_type": "code",
   "execution_count": 2,
   "metadata": {},
   "outputs": [],
   "source": [
    "import cv2\n",
    "import matplotlib.pyplot as plt\n",
    "from matplotlib.pyplot import imshow\n",
    "import keras.backend as K\n",
    "K.set_image_data_format('channels_last')\n",
    "from PIL import Image"
   ]
  },
  {
   "cell_type": "code",
   "execution_count": 3,
   "metadata": {},
   "outputs": [
    {
     "name": "stdout",
     "output_type": "stream",
     "text": [
      "C:\\Users\\Asus\\Cat vs Dog Project\\train\n"
     ]
    }
   ],
   "source": [
    "directory = os.path.abspath(\"train\")\n",
    "print(directory)"
   ]
  },
  {
   "cell_type": "code",
   "execution_count": 4,
   "metadata": {},
   "outputs": [],
   "source": [
    "X = []\n",
    "Y = []\n",
    "i = 0\n",
    "category = ['Cat', 'Dog']\n",
    "for c in category:\n",
    "    path = os.path.join(directory, c)\n",
    "    for file in os.listdir(path):\n",
    "        classes = category.index(c)\n",
    "        Y.append(classes)\n",
    "        img_path = os.path.join(path, file)\n",
    "        img = cv2.imread(img_path, cv2.IMREAD_COLOR)\n",
    "        img_r = cv2.resize(img, (100, 100))\n",
    "        X.append(img_r)\n",
    "        \n",
    "X_train = np.array(X)\n",
    "Y_train = np.array(Y)\n",
    "cv2.imshow(\"New Image\", X_train[35])\n",
    "cv2.waitKey(0)\n",
    "cv2.destroyAllWindows()"
   ]
  },
  {
   "cell_type": "code",
   "execution_count": 5,
   "metadata": {},
   "outputs": [
    {
     "name": "stdout",
     "output_type": "stream",
     "text": [
      "(25000, 100, 100, 3)\n"
     ]
    }
   ],
   "source": [
    "print(X_train.shape)"
   ]
  },
  {
   "cell_type": "code",
   "execution_count": 6,
   "metadata": {},
   "outputs": [
    {
     "name": "stdout",
     "output_type": "stream",
     "text": [
      "0\n"
     ]
    }
   ],
   "source": [
    "np.random.seed(1)\n",
    "m = X_train.shape[0]\n",
    "permutation = list(np.random.permutation(m))\n",
    "X = X_train[permutation, :]\n",
    "Y = Y_train[permutation]\n",
    "X_train = X\n",
    "Y_train = Y\n",
    "cv2.imshow(\"new img\", X_train[35])\n",
    "print(Y_train[35])\n",
    "cv2.waitKey(0)\n",
    "cv2.destroyAllWindows()\n"
   ]
  },
  {
   "cell_type": "code",
   "execution_count": 7,
   "metadata": {},
   "outputs": [
    {
     "name": "stdout",
     "output_type": "stream",
     "text": [
      "<class 'numpy.ndarray'>\n",
      "<class 'numpy.ndarray'>\n"
     ]
    }
   ],
   "source": [
    "print(type(X_train))\n",
    "print(type(Y_train))"
   ]
  },
  {
   "cell_type": "code",
   "execution_count": 8,
   "metadata": {},
   "outputs": [],
   "source": [
    "def model(Input_shape):\n",
    "    X_input = Input(Input_shape)\n",
    "    X = BatchNormalization(axis = 3, name = 'bn_0')(X_input)\n",
    "    \n",
    "    X = ZeroPadding2D((4, 4))(X)    \n",
    "    X = Conv2D(32, (5, 5), strides = (2, 2), name = 'conv_1')(X)\n",
    "    X = BatchNormalization(axis = 3, name = 'bn_1')(X)\n",
    "    X = Activation('relu')(X)\n",
    "    X = MaxPooling2D((2, 2), strides = None, name = 'mp_1')(X)\n",
    "    \n",
    "    X = ZeroPadding2D((2, 2))(X)  \n",
    "    X = Conv2D(64, (3, 3), strides = (2, 2), padding = 'same', name = 'conv_2')(X)\n",
    "    X = BatchNormalization(axis = 3, name = 'bn_2')(X)\n",
    "    X = Activation('relu')(X)\n",
    "    \n",
    "    X = Conv2D(128, (2, 2), strides = (1, 1), padding = 'same', name = 'conv_3')(X)\n",
    "    X = BatchNormalization(axis = 3, name = 'bn_3')(X)\n",
    "    X = Activation('relu')(X)\n",
    "    X = MaxPooling2D((2, 2), strides = None, name = 'mp_3')(X)\n",
    "    \n",
    "    X = Flatten()(X)\n",
    "    \n",
    "    X = Dense(100, activation = 'relu', name = 'fc_0')(X)\n",
    "    X = Dropout(rate = 0.3, noise_shape = None, seed = 1)(X)\n",
    "    X = Dense(20, activation = 'relu', name = 'fc_1')(X)\n",
    "    X = Dense(1, activation = 'sigmoid', name = 'output_layer')(X)\n",
    "    model = Model(inputs = X_input, outputs = X, name = 'base_model')\n",
    "    \n",
    "    return(model)\n",
    "    "
   ]
  },
  {
   "cell_type": "code",
   "execution_count": 9,
   "metadata": {},
   "outputs": [
    {
     "name": "stdout",
     "output_type": "stream",
     "text": [
      "WARNING:tensorflow:From C:\\Users\\Asus\\Anaconda3\\envs\\tensorflow\\lib\\site-packages\\keras\\backend\\tensorflow_backend.py:74: The name tf.get_default_graph is deprecated. Please use tf.compat.v1.get_default_graph instead.\n",
      "\n",
      "WARNING:tensorflow:From C:\\Users\\Asus\\Anaconda3\\envs\\tensorflow\\lib\\site-packages\\keras\\backend\\tensorflow_backend.py:517: The name tf.placeholder is deprecated. Please use tf.compat.v1.placeholder instead.\n",
      "\n",
      "WARNING:tensorflow:From C:\\Users\\Asus\\Anaconda3\\envs\\tensorflow\\lib\\site-packages\\keras\\backend\\tensorflow_backend.py:174: The name tf.get_default_session is deprecated. Please use tf.compat.v1.get_default_session instead.\n",
      "\n",
      "WARNING:tensorflow:From C:\\Users\\Asus\\Anaconda3\\envs\\tensorflow\\lib\\site-packages\\keras\\backend\\tensorflow_backend.py:181: The name tf.ConfigProto is deprecated. Please use tf.compat.v1.ConfigProto instead.\n",
      "\n",
      "WARNING:tensorflow:From C:\\Users\\Asus\\Anaconda3\\envs\\tensorflow\\lib\\site-packages\\keras\\backend\\tensorflow_backend.py:186: The name tf.Session is deprecated. Please use tf.compat.v1.Session instead.\n",
      "\n",
      "WARNING:tensorflow:From C:\\Users\\Asus\\Anaconda3\\envs\\tensorflow\\lib\\site-packages\\keras\\backend\\tensorflow_backend.py:190: The name tf.global_variables is deprecated. Please use tf.compat.v1.global_variables instead.\n",
      "\n",
      "WARNING:tensorflow:From C:\\Users\\Asus\\Anaconda3\\envs\\tensorflow\\lib\\site-packages\\keras\\backend\\tensorflow_backend.py:199: The name tf.is_variable_initialized is deprecated. Please use tf.compat.v1.is_variable_initialized instead.\n",
      "\n",
      "WARNING:tensorflow:From C:\\Users\\Asus\\Anaconda3\\envs\\tensorflow\\lib\\site-packages\\keras\\backend\\tensorflow_backend.py:206: The name tf.variables_initializer is deprecated. Please use tf.compat.v1.variables_initializer instead.\n",
      "\n",
      "WARNING:tensorflow:From C:\\Users\\Asus\\Anaconda3\\envs\\tensorflow\\lib\\site-packages\\keras\\backend\\tensorflow_backend.py:1834: The name tf.nn.fused_batch_norm is deprecated. Please use tf.compat.v1.nn.fused_batch_norm instead.\n",
      "\n",
      "WARNING:tensorflow:From C:\\Users\\Asus\\Anaconda3\\envs\\tensorflow\\lib\\site-packages\\keras\\backend\\tensorflow_backend.py:133: The name tf.placeholder_with_default is deprecated. Please use tf.compat.v1.placeholder_with_default instead.\n",
      "\n",
      "WARNING:tensorflow:From C:\\Users\\Asus\\Anaconda3\\envs\\tensorflow\\lib\\site-packages\\keras\\backend\\tensorflow_backend.py:4138: The name tf.random_uniform is deprecated. Please use tf.random.uniform instead.\n",
      "\n",
      "WARNING:tensorflow:From C:\\Users\\Asus\\Anaconda3\\envs\\tensorflow\\lib\\site-packages\\keras\\backend\\tensorflow_backend.py:3976: The name tf.nn.max_pool is deprecated. Please use tf.nn.max_pool2d instead.\n",
      "\n",
      "WARNING:tensorflow:From C:\\Users\\Asus\\Anaconda3\\envs\\tensorflow\\lib\\site-packages\\keras\\backend\\tensorflow_backend.py:3445: calling dropout (from tensorflow.python.ops.nn_ops) with keep_prob is deprecated and will be removed in a future version.\n",
      "Instructions for updating:\n",
      "Please use `rate` instead of `keep_prob`. Rate should be set to `rate = 1 - keep_prob`.\n",
      "WARNING:tensorflow:From C:\\Users\\Asus\\Anaconda3\\envs\\tensorflow\\lib\\site-packages\\keras\\optimizers.py:790: The name tf.train.Optimizer is deprecated. Please use tf.compat.v1.train.Optimizer instead.\n",
      "\n",
      "WARNING:tensorflow:From C:\\Users\\Asus\\Anaconda3\\envs\\tensorflow\\lib\\site-packages\\keras\\backend\\tensorflow_backend.py:3376: The name tf.log is deprecated. Please use tf.math.log instead.\n",
      "\n",
      "WARNING:tensorflow:From C:\\Users\\Asus\\Anaconda3\\envs\\tensorflow\\lib\\site-packages\\tensorflow_core\\python\\ops\\nn_impl.py:183: where (from tensorflow.python.ops.array_ops) is deprecated and will be removed in a future version.\n",
      "Instructions for updating:\n",
      "Use tf.where in 2.0, which has the same broadcast rule as np.where\n"
     ]
    }
   ],
   "source": [
    "mymodel = model((100, 100, 3))\n",
    "mymodel.compile(optimizer = 'adam', loss = 'binary_crossentropy', metrics = ['accuracy'])"
   ]
  },
  {
   "cell_type": "code",
   "execution_count": 10,
   "metadata": {},
   "outputs": [
    {
     "name": "stdout",
     "output_type": "stream",
     "text": [
      "_________________________________________________________________\n",
      "Layer (type)                 Output Shape              Param #   \n",
      "=================================================================\n",
      "input_1 (InputLayer)         (None, 100, 100, 3)       0         \n",
      "_________________________________________________________________\n",
      "bn_0 (BatchNormalization)    (None, 100, 100, 3)       12        \n",
      "_________________________________________________________________\n",
      "zero_padding2d_1 (ZeroPaddin (None, 108, 108, 3)       0         \n",
      "_________________________________________________________________\n",
      "conv_1 (Conv2D)              (None, 52, 52, 32)        2432      \n",
      "_________________________________________________________________\n",
      "bn_1 (BatchNormalization)    (None, 52, 52, 32)        128       \n",
      "_________________________________________________________________\n",
      "activation_1 (Activation)    (None, 52, 52, 32)        0         \n",
      "_________________________________________________________________\n",
      "mp_1 (MaxPooling2D)          (None, 26, 26, 32)        0         \n",
      "_________________________________________________________________\n",
      "zero_padding2d_2 (ZeroPaddin (None, 30, 30, 32)        0         \n",
      "_________________________________________________________________\n",
      "conv_2 (Conv2D)              (None, 15, 15, 64)        18496     \n",
      "_________________________________________________________________\n",
      "bn_2 (BatchNormalization)    (None, 15, 15, 64)        256       \n",
      "_________________________________________________________________\n",
      "activation_2 (Activation)    (None, 15, 15, 64)        0         \n",
      "_________________________________________________________________\n",
      "conv_3 (Conv2D)              (None, 15, 15, 128)       32896     \n",
      "_________________________________________________________________\n",
      "bn_3 (BatchNormalization)    (None, 15, 15, 128)       512       \n",
      "_________________________________________________________________\n",
      "activation_3 (Activation)    (None, 15, 15, 128)       0         \n",
      "_________________________________________________________________\n",
      "mp_3 (MaxPooling2D)          (None, 7, 7, 128)         0         \n",
      "_________________________________________________________________\n",
      "flatten_1 (Flatten)          (None, 6272)              0         \n",
      "_________________________________________________________________\n",
      "fc_0 (Dense)                 (None, 100)               627300    \n",
      "_________________________________________________________________\n",
      "dropout_1 (Dropout)          (None, 100)               0         \n",
      "_________________________________________________________________\n",
      "fc_1 (Dense)                 (None, 20)                2020      \n",
      "_________________________________________________________________\n",
      "output_layer (Dense)         (None, 1)                 21        \n",
      "=================================================================\n",
      "Total params: 684,073\n",
      "Trainable params: 683,619\n",
      "Non-trainable params: 454\n",
      "_________________________________________________________________\n"
     ]
    }
   ],
   "source": [
    "mymodel.summary()"
   ]
  },
  {
   "cell_type": "code",
   "execution_count": 11,
   "metadata": {},
   "outputs": [
    {
     "name": "stdout",
     "output_type": "stream",
     "text": [
      "WARNING:tensorflow:From C:\\Users\\Asus\\Anaconda3\\envs\\tensorflow\\lib\\site-packages\\keras\\backend\\tensorflow_backend.py:986: The name tf.assign_add is deprecated. Please use tf.compat.v1.assign_add instead.\n",
      "\n",
      "WARNING:tensorflow:From C:\\Users\\Asus\\Anaconda3\\envs\\tensorflow\\lib\\site-packages\\keras\\backend\\tensorflow_backend.py:973: The name tf.assign is deprecated. Please use tf.compat.v1.assign instead.\n",
      "\n",
      "Train on 20000 samples, validate on 5000 samples\n",
      "Epoch 1/20\n",
      "20000/20000 [==============================] - 170s 9ms/step - loss: 0.6504 - acc: 0.6366 - val_loss: 0.5721 - val_acc: 0.6994\n",
      "Epoch 2/20\n",
      "20000/20000 [==============================] - 165s 8ms/step - loss: 0.5420 - acc: 0.7231 - val_loss: 0.5251 - val_acc: 0.7506\n",
      "Epoch 3/20\n",
      "20000/20000 [==============================] - 164s 8ms/step - loss: 0.4873 - acc: 0.7584 - val_loss: 0.4778 - val_acc: 0.7804\n",
      "Epoch 4/20\n",
      "20000/20000 [==============================] - 165s 8ms/step - loss: 0.4407 - acc: 0.7914 - val_loss: 0.4856 - val_acc: 0.7634\n",
      "Epoch 5/20\n",
      "20000/20000 [==============================] - 164s 8ms/step - loss: 0.4077 - acc: 0.8106 - val_loss: 0.4261 - val_acc: 0.8116\n",
      "Epoch 6/20\n",
      "20000/20000 [==============================] - 166s 8ms/step - loss: 0.3838 - acc: 0.8248 - val_loss: 0.4056 - val_acc: 0.8196\n",
      "Epoch 7/20\n",
      "20000/20000 [==============================] - 165s 8ms/step - loss: 0.3432 - acc: 0.8442 - val_loss: 0.3794 - val_acc: 0.8266\n",
      "Epoch 8/20\n",
      "20000/20000 [==============================] - 164s 8ms/step - loss: 0.3164 - acc: 0.8615 - val_loss: 0.3658 - val_acc: 0.8404\n",
      "Epoch 9/20\n",
      "20000/20000 [==============================] - 166s 8ms/step - loss: 0.2910 - acc: 0.8730 - val_loss: 0.3495 - val_acc: 0.8482\n",
      "Epoch 10/20\n",
      "20000/20000 [==============================] - 164s 8ms/step - loss: 0.2651 - acc: 0.8853 - val_loss: 0.3603 - val_acc: 0.8440\n",
      "Epoch 11/20\n",
      "20000/20000 [==============================] - 164s 8ms/step - loss: 0.2414 - acc: 0.8962 - val_loss: 0.3479 - val_acc: 0.8506\n",
      "Epoch 12/20\n",
      "20000/20000 [==============================] - 164s 8ms/step - loss: 0.2163 - acc: 0.9067 - val_loss: 0.3939 - val_acc: 0.8326\n",
      "Epoch 13/20\n",
      "20000/20000 [==============================] - 165s 8ms/step - loss: 0.1924 - acc: 0.9190 - val_loss: 0.3341 - val_acc: 0.8606\n",
      "Epoch 14/20\n",
      "20000/20000 [==============================] - 164s 8ms/step - loss: 0.1729 - acc: 0.9285 - val_loss: 0.5261 - val_acc: 0.8060\n",
      "Epoch 15/20\n",
      "20000/20000 [==============================] - 164s 8ms/step - loss: 0.1550 - acc: 0.9353 - val_loss: 0.4147 - val_acc: 0.8374\n",
      "Epoch 16/20\n",
      "20000/20000 [==============================] - 164s 8ms/step - loss: 0.1322 - acc: 0.9465 - val_loss: 0.3640 - val_acc: 0.8572\n",
      "Epoch 17/20\n",
      "20000/20000 [==============================] - 164s 8ms/step - loss: 0.1177 - acc: 0.9528 - val_loss: 0.4493 - val_acc: 0.8466\n",
      "Epoch 18/20\n",
      "20000/20000 [==============================] - 165s 8ms/step - loss: 0.1062 - acc: 0.9555 - val_loss: 0.4485 - val_acc: 0.8582\n",
      "Epoch 19/20\n",
      "20000/20000 [==============================] - 163s 8ms/step - loss: 0.1023 - acc: 0.9582 - val_loss: 0.4186 - val_acc: 0.8556\n",
      "Epoch 20/20\n",
      "20000/20000 [==============================] - 163s 8ms/step - loss: 0.0881 - acc: 0.9643 - val_loss: 0.4834 - val_acc: 0.8532\n"
     ]
    },
    {
     "data": {
      "text/plain": [
       "<keras.callbacks.History at 0x1c37f957808>"
      ]
     },
     "execution_count": 11,
     "metadata": {},
     "output_type": "execute_result"
    }
   ],
   "source": [
    "mymodel.fit(X_train, Y_train, batch_size = 64, epochs = 20, validation_split = 0.2)"
   ]
  },
  {
   "cell_type": "code",
   "execution_count": 15,
   "metadata": {},
   "outputs": [],
   "source": [
    "import h5py"
   ]
  },
  {
   "cell_type": "code",
   "execution_count": 16,
   "metadata": {},
   "outputs": [],
   "source": [
    "model_json = mymodel.to_json()\n",
    "with open(\"ASIRA_model.json\", \"w\") as json_file:\n",
    "    json_file.write(model_json)"
   ]
  },
  {
   "cell_type": "code",
   "execution_count": 17,
   "metadata": {},
   "outputs": [
    {
     "name": "stdout",
     "output_type": "stream",
     "text": [
      "Saved\n"
     ]
    }
   ],
   "source": [
    "mymodel.save_weights(\"ASIRA_model_weights.h5\")\n",
    "print(\"Saved\")# Weights give nearly 95 above train accuracy and 83.9 validation accuracy "
   ]
  },
  {
   "cell_type": "code",
   "execution_count": null,
   "metadata": {},
   "outputs": [],
   "source": []
  }
 ],
 "metadata": {
  "kernelspec": {
   "display_name": "Python 3",
   "language": "python",
   "name": "python3"
  },
  "language_info": {
   "codemirror_mode": {
    "name": "ipython",
    "version": 3
   },
   "file_extension": ".py",
   "mimetype": "text/x-python",
   "name": "python",
   "nbconvert_exporter": "python",
   "pygments_lexer": "ipython3",
   "version": "3.7.6"
  }
 },
 "nbformat": 4,
 "nbformat_minor": 2
}

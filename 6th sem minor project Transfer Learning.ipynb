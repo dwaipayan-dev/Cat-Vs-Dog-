{
 "cells": [
  {
   "cell_type": "code",
   "execution_count": 40,
   "metadata": {},
   "outputs": [],
   "source": [
    "import numpy as np\n",
    "import pandas as pd\n",
    "import os\n",
    "import tensorflow as tf\n",
    "import PIL\n",
    "from keras import layers, optimizers\n",
    "from keras.models import Model, model_from_json\n",
    "from keras.layers import Input, Activation, Dense, Conv2D, Flatten, ZeroPadding2D, BatchNormalization\n",
    "from keras.layers import MaxPooling2D, AveragePooling2D, Dropout, GlobalMaxPooling2D\n",
    "from keras.utils import to_categorical\n",
    "from keras.preprocessing.image import ImageDataGenerator, array_to_img, img_to_array\n",
    "from random import seed \n",
    "from random import randint\n"
   ]
  },
  {
   "cell_type": "code",
   "execution_count": 41,
   "metadata": {},
   "outputs": [],
   "source": [
    "import cv2\n",
    "import matplotlib.pyplot as plt\n",
    "from matplotlib.pyplot import imshow\n",
    "import keras.backend as K\n",
    "K.set_image_data_format('channels_last')\n",
    "from PIL import Image"
   ]
  },
  {
   "cell_type": "code",
   "execution_count": 42,
   "metadata": {},
   "outputs": [
    {
     "name": "stdout",
     "output_type": "stream",
     "text": [
      "C:\\Users\\Asus\\Cat vs Dog Project\\Transfer_Train\n"
     ]
    }
   ],
   "source": [
    "directory = os.path.abspath(\"Transfer_Train\")\n",
    "print(directory)"
   ]
  },
  {
   "cell_type": "code",
   "execution_count": 43,
   "metadata": {},
   "outputs": [],
   "source": [
    "X = []\n",
    "Y = []\n",
    "i = 0\n",
    "category = ['Cat', 'Dog', 'Chick']\n",
    "for c in category:\n",
    "    path = os.path.join(directory, c)\n",
    "    for file in os.listdir(path):\n",
    "        classes = category.index(c)\n",
    "        Y.append(classes)\n",
    "        img_path = os.path.join(path, file)\n",
    "        img = cv2.imread(img_path, cv2.IMREAD_COLOR)\n",
    "        img_r = cv2.resize(img, (100, 100))\n",
    "        X.append(img_r)\n",
    "        \n",
    "X_train = np.array(X)\n",
    "Y_train = np.array(Y)\n",
    "Y_train = to_categorical(Y_train)\n",
    "cv2.imshow(\"New Image\", X_train[35])\n",
    "cv2.waitKey(0)\n",
    "cv2.destroyAllWindows()"
   ]
  },
  {
   "cell_type": "code",
   "execution_count": 44,
   "metadata": {},
   "outputs": [
    {
     "name": "stdout",
     "output_type": "stream",
     "text": [
      "[0. 1. 0.]\n"
     ]
    }
   ],
   "source": [
    "np.random.seed(1)\n",
    "m = X_train.shape[0]\n",
    "permutation = list(np.random.permutation(m))\n",
    "X = X_train[permutation, :]\n",
    "Y = Y_train[permutation, :]\n",
    "X_train = X\n",
    "Y_train = Y\n",
    "cv2.imshow(\"new img\", X_train[35])\n",
    "print(Y_train[35])\n",
    "cv2.waitKey(0)\n",
    "cv2.destroyAllWindows()"
   ]
  },
  {
   "cell_type": "code",
   "execution_count": 45,
   "metadata": {},
   "outputs": [],
   "source": [
    "with open(\"ASIRA_model.json\", \"r\") as json_file:\n",
    "    loaded_model_json = json_file.read()\n",
    "loaded_model = model_from_json(loaded_model_json)"
   ]
  },
  {
   "cell_type": "code",
   "execution_count": 46,
   "metadata": {},
   "outputs": [
    {
     "name": "stdout",
     "output_type": "stream",
     "text": [
      "Loaded\n"
     ]
    }
   ],
   "source": [
    "loaded_model.load_weights(\"ASIRA_model_weights.h5\")\n",
    "print(\"Loaded\")"
   ]
  },
  {
   "cell_type": "code",
   "execution_count": 47,
   "metadata": {},
   "outputs": [
    {
     "name": "stdout",
     "output_type": "stream",
     "text": [
      "_________________________________________________________________\n",
      "Layer (type)                 Output Shape              Param #   \n",
      "=================================================================\n",
      "input_1 (InputLayer)         (None, 100, 100, 3)       0         \n",
      "_________________________________________________________________\n",
      "bn_0 (BatchNormalization)    (None, 100, 100, 3)       12        \n",
      "_________________________________________________________________\n",
      "zero_padding2d_1 (ZeroPaddin (None, 108, 108, 3)       0         \n",
      "_________________________________________________________________\n",
      "conv_1 (Conv2D)              (None, 52, 52, 32)        2432      \n",
      "_________________________________________________________________\n",
      "bn_1 (BatchNormalization)    (None, 52, 52, 32)        128       \n",
      "_________________________________________________________________\n",
      "activation_1 (Activation)    (None, 52, 52, 32)        0         \n",
      "_________________________________________________________________\n",
      "mp_1 (MaxPooling2D)          (None, 26, 26, 32)        0         \n",
      "_________________________________________________________________\n",
      "zero_padding2d_2 (ZeroPaddin (None, 30, 30, 32)        0         \n",
      "_________________________________________________________________\n",
      "conv_2 (Conv2D)              (None, 15, 15, 64)        18496     \n",
      "_________________________________________________________________\n",
      "bn_2 (BatchNormalization)    (None, 15, 15, 64)        256       \n",
      "_________________________________________________________________\n",
      "activation_2 (Activation)    (None, 15, 15, 64)        0         \n",
      "_________________________________________________________________\n",
      "conv_3 (Conv2D)              (None, 15, 15, 128)       32896     \n",
      "_________________________________________________________________\n",
      "bn_3 (BatchNormalization)    (None, 15, 15, 128)       512       \n",
      "_________________________________________________________________\n",
      "activation_3 (Activation)    (None, 15, 15, 128)       0         \n",
      "_________________________________________________________________\n",
      "mp_3 (MaxPooling2D)          (None, 7, 7, 128)         0         \n",
      "_________________________________________________________________\n",
      "flatten_1 (Flatten)          (None, 6272)              0         \n",
      "_________________________________________________________________\n",
      "fc_0 (Dense)                 (None, 100)               627300    \n",
      "_________________________________________________________________\n",
      "dropout_1 (Dropout)          (None, 100)               0         \n",
      "_________________________________________________________________\n",
      "fc_1 (Dense)                 (None, 20)                2020      \n",
      "_________________________________________________________________\n",
      "output_layer (Dense)         (None, 2)                 42        \n",
      "=================================================================\n",
      "Total params: 684,094\n",
      "Trainable params: 683,640\n",
      "Non-trainable params: 454\n",
      "_________________________________________________________________\n",
      "None\n"
     ]
    }
   ],
   "source": [
    "print(loaded_model.summary())"
   ]
  },
  {
   "cell_type": "code",
   "execution_count": 48,
   "metadata": {},
   "outputs": [
    {
     "name": "stdout",
     "output_type": "stream",
     "text": [
      "_________________________________________________________________\n",
      "Layer (type)                 Output Shape              Param #   \n",
      "=================================================================\n",
      "input_1 (InputLayer)         (None, 100, 100, 3)       0         \n",
      "_________________________________________________________________\n",
      "bn_0 (BatchNormalization)    (None, 100, 100, 3)       12        \n",
      "_________________________________________________________________\n",
      "zero_padding2d_1 (ZeroPaddin (None, 108, 108, 3)       0         \n",
      "_________________________________________________________________\n",
      "conv_1 (Conv2D)              (None, 52, 52, 32)        2432      \n",
      "_________________________________________________________________\n",
      "bn_1 (BatchNormalization)    (None, 52, 52, 32)        128       \n",
      "_________________________________________________________________\n",
      "activation_1 (Activation)    (None, 52, 52, 32)        0         \n",
      "_________________________________________________________________\n",
      "mp_1 (MaxPooling2D)          (None, 26, 26, 32)        0         \n",
      "_________________________________________________________________\n",
      "zero_padding2d_2 (ZeroPaddin (None, 30, 30, 32)        0         \n",
      "_________________________________________________________________\n",
      "conv_2 (Conv2D)              (None, 15, 15, 64)        18496     \n",
      "_________________________________________________________________\n",
      "bn_2 (BatchNormalization)    (None, 15, 15, 64)        256       \n",
      "_________________________________________________________________\n",
      "activation_2 (Activation)    (None, 15, 15, 64)        0         \n",
      "_________________________________________________________________\n",
      "conv_3 (Conv2D)              (None, 15, 15, 128)       32896     \n",
      "_________________________________________________________________\n",
      "bn_3 (BatchNormalization)    (None, 15, 15, 128)       512       \n",
      "_________________________________________________________________\n",
      "activation_3 (Activation)    (None, 15, 15, 128)       0         \n",
      "_________________________________________________________________\n",
      "mp_3 (MaxPooling2D)          (None, 7, 7, 128)         0         \n",
      "_________________________________________________________________\n",
      "flatten_1 (Flatten)          (None, 6272)              0         \n",
      "_________________________________________________________________\n",
      "fc_0 (Dense)                 (None, 100)               627300    \n",
      "_________________________________________________________________\n",
      "dropout_1 (Dropout)          (None, 100)               0         \n",
      "_________________________________________________________________\n",
      "fc_1 (Dense)                 (None, 20)                2020      \n",
      "_________________________________________________________________\n",
      "output_layer (Dense)         (None, 2)                 42        \n",
      "=================================================================\n",
      "Total params: 684,094\n",
      "Trainable params: 662,514\n",
      "Non-trainable params: 21,580\n",
      "_________________________________________________________________\n",
      "None\n"
     ]
    }
   ],
   "source": [
    "last_few_layers = 9\n",
    "for l in loaded_model.layers[:-last_few_layers]:\n",
    "    l.trainable = False\n",
    "print(loaded_model.summary())"
   ]
  },
  {
   "cell_type": "code",
   "execution_count": 49,
   "metadata": {},
   "outputs": [
    {
     "name": "stdout",
     "output_type": "stream",
     "text": [
      "_________________________________________________________________\n",
      "Layer (type)                 Output Shape              Param #   \n",
      "=================================================================\n",
      "input_1 (InputLayer)         (None, 100, 100, 3)       0         \n",
      "_________________________________________________________________\n",
      "bn_0 (BatchNormalization)    (None, 100, 100, 3)       12        \n",
      "_________________________________________________________________\n",
      "zero_padding2d_1 (ZeroPaddin (None, 108, 108, 3)       0         \n",
      "_________________________________________________________________\n",
      "conv_1 (Conv2D)              (None, 52, 52, 32)        2432      \n",
      "_________________________________________________________________\n",
      "bn_1 (BatchNormalization)    (None, 52, 52, 32)        128       \n",
      "_________________________________________________________________\n",
      "activation_1 (Activation)    (None, 52, 52, 32)        0         \n",
      "_________________________________________________________________\n",
      "mp_1 (MaxPooling2D)          (None, 26, 26, 32)        0         \n",
      "_________________________________________________________________\n",
      "zero_padding2d_2 (ZeroPaddin (None, 30, 30, 32)        0         \n",
      "_________________________________________________________________\n",
      "conv_2 (Conv2D)              (None, 15, 15, 64)        18496     \n",
      "_________________________________________________________________\n",
      "bn_2 (BatchNormalization)    (None, 15, 15, 64)        256       \n",
      "_________________________________________________________________\n",
      "activation_2 (Activation)    (None, 15, 15, 64)        0         \n",
      "_________________________________________________________________\n",
      "conv_3 (Conv2D)              (None, 15, 15, 128)       32896     \n",
      "_________________________________________________________________\n",
      "bn_3 (BatchNormalization)    (None, 15, 15, 128)       512       \n",
      "_________________________________________________________________\n",
      "activation_3 (Activation)    (None, 15, 15, 128)       0         \n",
      "_________________________________________________________________\n",
      "mp_3 (MaxPooling2D)          (None, 7, 7, 128)         0         \n",
      "_________________________________________________________________\n",
      "flatten_1 (Flatten)          (None, 6272)              0         \n",
      "_________________________________________________________________\n",
      "fc_0 (Dense)                 (None, 100)               627300    \n",
      "_________________________________________________________________\n",
      "dropout_1 (Dropout)          (None, 100)               0         \n",
      "_________________________________________________________________\n",
      "fc_1 (Dense)                 (None, 20)                2020      \n",
      "=================================================================\n",
      "Total params: 684,052\n",
      "Trainable params: 662,472\n",
      "Non-trainable params: 21,580\n",
      "_________________________________________________________________\n",
      "None\n"
     ]
    }
   ],
   "source": [
    "loaded_model.layers.pop()\n",
    "print(loaded_model.summary())"
   ]
  },
  {
   "cell_type": "code",
   "execution_count": null,
   "metadata": {},
   "outputs": [],
   "source": []
  },
  {
   "cell_type": "code",
   "execution_count": 29,
   "metadata": {},
   "outputs": [
    {
     "name": "stdout",
     "output_type": "stream",
     "text": [
      "_________________________________________________________________\n",
      "Layer (type)                 Output Shape              Param #   \n",
      "=================================================================\n",
      "input_1 (InputLayer)         (None, 100, 100, 3)       0         \n",
      "_________________________________________________________________\n",
      "bn_0 (BatchNormalization)    (None, 100, 100, 3)       12        \n",
      "_________________________________________________________________\n",
      "zero_padding2d_1 (ZeroPaddin (None, 108, 108, 3)       0         \n",
      "_________________________________________________________________\n",
      "conv_1 (Conv2D)              (None, 52, 52, 32)        2432      \n",
      "_________________________________________________________________\n",
      "bn_1 (BatchNormalization)    (None, 52, 52, 32)        128       \n",
      "_________________________________________________________________\n",
      "activation_1 (Activation)    (None, 52, 52, 32)        0         \n",
      "_________________________________________________________________\n",
      "mp_1 (MaxPooling2D)          (None, 26, 26, 32)        0         \n",
      "_________________________________________________________________\n",
      "zero_padding2d_2 (ZeroPaddin (None, 30, 30, 32)        0         \n",
      "_________________________________________________________________\n",
      "conv_2 (Conv2D)              (None, 15, 15, 64)        18496     \n",
      "_________________________________________________________________\n",
      "bn_2 (BatchNormalization)    (None, 15, 15, 64)        256       \n",
      "_________________________________________________________________\n",
      "activation_2 (Activation)    (None, 15, 15, 64)        0         \n",
      "_________________________________________________________________\n",
      "conv_3 (Conv2D)              (None, 15, 15, 128)       32896     \n",
      "_________________________________________________________________\n",
      "bn_3 (BatchNormalization)    (None, 15, 15, 128)       512       \n",
      "_________________________________________________________________\n",
      "activation_3 (Activation)    (None, 15, 15, 128)       0         \n",
      "_________________________________________________________________\n",
      "mp_3 (MaxPooling2D)          (None, 7, 7, 128)         0         \n",
      "_________________________________________________________________\n",
      "flatten_1 (Flatten)          (None, 6272)              0         \n",
      "_________________________________________________________________\n",
      "fc_0 (Dense)                 (None, 100)               627300    \n",
      "_________________________________________________________________\n",
      "dropout_1 (Dropout)          (None, 100)               0         \n",
      "_________________________________________________________________\n",
      "fc_1 (Dense)                 (None, 20)                2020      \n",
      "_________________________________________________________________\n",
      "output_layer (Dense)         (None, 3)                 63        \n",
      "=================================================================\n",
      "Total params: 684,115\n",
      "Trainable params: 662,535\n",
      "Non-trainable params: 21,580\n",
      "_________________________________________________________________\n",
      "None\n"
     ]
    }
   ],
   "source": [
    "X = loaded_model.layers[-1].output\n",
    "X = Dense(3, activation = 'softmax', name = 'output_layer')(X)\n",
    "model1 = Model(inputs = loaded_model.layers[0].output, outputs = X, name = 'next_model')\n",
    "print(model1.summary())"
   ]
  },
  {
   "cell_type": "code",
   "execution_count": 30,
   "metadata": {},
   "outputs": [],
   "source": [
    "model1.compile(optimizer = 'adam', loss = 'categorical_crossentropy', metrics = ['accuracy'])"
   ]
  },
  {
   "cell_type": "code",
   "execution_count": 38,
   "metadata": {},
   "outputs": [
    {
     "name": "stdout",
     "output_type": "stream",
     "text": [
      "Found 297 images belonging to 3 classes.\n",
      "Found 89 images belonging to 3 classes.\n"
     ]
    }
   ],
   "source": [
    "train_datagen = ImageDataGenerator(rescale = 1./255,\n",
    "                                  rotation_range = 20,\n",
    "                                  width_shift_range = 0.2,\n",
    "                                  height_shift_range = 0.2,\n",
    "                                  horizontal_flip = True,\n",
    "                                  fill_mode = 'nearest')\n",
    "validation_datagen = ImageDataGenerator(rescale = 1./255)\n",
    "\n",
    "train_batchsize = 64\n",
    "validation_batchsize = 8\n",
    "\n",
    "train_generator = train_datagen.flow_from_directory('Transfer_Train',\n",
    "                                 target_size = (100, 100),\n",
    "                                 batch_size = train_batchsize,\n",
    "                                 class_mode = 'categorical',\n",
    "                                 save_to_dir = 'blank_train')\n",
    "\n",
    "validation_generator = validation_datagen.flow_from_directory('Transfer_vali',\n",
    "                                 target_size = (100, 100),\n",
    "                                 batch_size = validation_batchsize,\n",
    "                                 class_mode = 'categorical',\n",
    "                                 shuffle = False,\n",
    "                                 save_to_dir = 'blank_test')"
   ]
  },
  {
   "cell_type": "code",
   "execution_count": 39,
   "metadata": {},
   "outputs": [
    {
     "name": "stdout",
     "output_type": "stream",
     "text": [
      "Epoch 1/30\n",
      "5/4 [================================] - 10s 2s/step - loss: 1.3252 - acc: 0.3180 - val_loss: 1.0986 - val_acc: 0.3371\n",
      "Epoch 2/30\n",
      "5/4 [================================] - 9s 2s/step - loss: 1.1274 - acc: 0.3197 - val_loss: 1.1018 - val_acc: 0.3258\n",
      "Epoch 3/30\n",
      "5/4 [================================] - 9s 2s/step - loss: 1.0989 - acc: 0.3414 - val_loss: 1.1019 - val_acc: 0.3258\n",
      "Epoch 4/30\n",
      "5/4 [================================] - 12s 2s/step - loss: 1.1027 - acc: 0.3229 - val_loss: 1.1019 - val_acc: 0.3258\n",
      "Epoch 5/30\n",
      "5/4 [================================] - 5s 985ms/step - loss: 1.1014 - acc: 0.3275 - val_loss: 1.1018 - val_acc: 0.3258\n",
      "Epoch 6/30\n",
      "5/4 [================================] - 10s 2s/step - loss: 1.1029 - acc: 0.3156 - val_loss: 1.1018 - val_acc: 0.3258\n",
      "Epoch 7/30\n",
      "5/4 [================================] - 7s 1s/step - loss: 1.1023 - acc: 0.3246 - val_loss: 1.1017 - val_acc: 0.3258\n",
      "Epoch 8/30\n",
      "5/4 [================================] - 11s 2s/step - loss: 1.1006 - acc: 0.3346 - val_loss: 1.1015 - val_acc: 0.3258\n",
      "Epoch 9/30\n",
      "5/4 [================================] - 7s 1s/step - loss: 1.1034 - acc: 0.3180 - val_loss: 1.1014 - val_acc: 0.3258\n",
      "Epoch 10/30\n",
      "5/4 [================================] - 7s 1s/step - loss: 1.1006 - acc: 0.3272 - val_loss: 1.1013 - val_acc: 0.3258\n",
      "Epoch 11/30\n",
      "5/4 [================================] - 9s 2s/step - loss: 1.1014 - acc: 0.3258 - val_loss: 1.1013 - val_acc: 0.3258\n",
      "Epoch 12/30\n",
      "5/4 [================================] - 6s 1s/step - loss: 1.0991 - acc: 0.3304 - val_loss: 1.1011 - val_acc: 0.3258\n",
      "Epoch 13/30\n",
      "5/4 [================================] - 9s 2s/step - loss: 1.1015 - acc: 0.3229 - val_loss: 1.1011 - val_acc: 0.3258\n",
      "Epoch 14/30\n",
      "5/4 [================================] - 12s 2s/step - loss: 1.1007 - acc: 0.3258 - val_loss: 1.1010 - val_acc: 0.3258\n",
      "Epoch 15/30\n",
      "5/4 [================================] - 10s 2s/step - loss: 1.1012 - acc: 0.3229 - val_loss: 1.1009 - val_acc: 0.3258\n",
      "Epoch 16/30\n",
      "5/4 [================================] - 8s 2s/step - loss: 1.0996 - acc: 0.3319 - val_loss: 1.1008 - val_acc: 0.3258\n",
      "Epoch 17/30\n",
      "5/4 [================================] - 8s 2s/step - loss: 1.0983 - acc: 0.3380 - val_loss: 1.1007 - val_acc: 0.3258\n",
      "Epoch 18/30\n",
      "5/4 [================================] - 7s 1s/step - loss: 1.1003 - acc: 0.3243 - val_loss: 1.1006 - val_acc: 0.3258\n",
      "Epoch 19/30\n",
      "5/4 [================================] - 8s 2s/step - loss: 1.0999 - acc: 0.3246 - val_loss: 1.1005 - val_acc: 0.3258\n",
      "Epoch 20/30\n",
      "5/4 [================================] - 5s 1s/step - loss: 1.0995 - acc: 0.3263 - val_loss: 1.1005 - val_acc: 0.3258\n",
      "Epoch 21/30\n",
      "5/4 [================================] - 11s 2s/step - loss: 1.1001 - acc: 0.3246 - val_loss: 1.1004 - val_acc: 0.3258\n",
      "Epoch 22/30\n",
      "5/4 [================================] - 8s 2s/step - loss: 1.1014 - acc: 0.3241 - val_loss: 1.1003 - val_acc: 0.3258\n",
      "Epoch 23/30\n",
      "5/4 [================================] - 8s 2s/step - loss: 1.1015 - acc: 0.3309 - val_loss: 1.1002 - val_acc: 0.3258\n",
      "Epoch 24/30\n",
      "5/4 [================================] - 6s 1s/step - loss: 1.0969 - acc: 0.3358 - val_loss: 1.1002 - val_acc: 0.3258\n",
      "Epoch 25/30\n",
      "5/4 [================================] - 6s 1s/step - loss: 1.0950 - acc: 0.3370 - val_loss: 1.1001 - val_acc: 0.3258\n",
      "Epoch 26/30\n",
      "5/4 [================================] - 8s 2s/step - loss: 1.0959 - acc: 0.3431 - val_loss: 1.1000 - val_acc: 0.3258\n",
      "Epoch 27/30\n",
      "5/4 [================================] - 7s 1s/step - loss: 1.0828 - acc: 0.3650 - val_loss: 1.1000 - val_acc: 0.3258\n",
      "Epoch 28/30\n",
      "5/4 [================================] - 9s 2s/step - loss: 1.0764 - acc: 0.3842 - val_loss: 1.0999 - val_acc: 0.3258\n",
      "Epoch 29/30\n",
      "5/4 [================================] - 7s 1s/step - loss: 1.0691 - acc: 0.3937 - val_loss: 1.0999 - val_acc: 0.3258\n",
      "Epoch 30/30\n",
      "5/4 [================================] - 8s 2s/step - loss: 1.0507 - acc: 0.4239 - val_loss: 1.0997 - val_acc: 0.3258\n"
     ]
    }
   ],
   "source": [
    "history = model1.fit_generator(train_generator,\n",
    "                              steps_per_epoch=train_generator.samples/train_generator.batch_size,\n",
    "                              epochs = 30,\n",
    "                              validation_data = validation_generator,\n",
    "                              validation_steps=validation_generator.samples/validation_generator.batch_size,\n",
    "                              verbose = 1)"
   ]
  },
  {
   "cell_type": "code",
   "execution_count": null,
   "metadata": {},
   "outputs": [],
   "source": []
  }
 ],
 "metadata": {
  "kernelspec": {
   "display_name": "Python 3",
   "language": "python",
   "name": "python3"
  },
  "language_info": {
   "codemirror_mode": {
    "name": "ipython",
    "version": 3
   },
   "file_extension": ".py",
   "mimetype": "text/x-python",
   "name": "python",
   "nbconvert_exporter": "python",
   "pygments_lexer": "ipython3",
   "version": "3.7.6"
  }
 },
 "nbformat": 4,
 "nbformat_minor": 2
}

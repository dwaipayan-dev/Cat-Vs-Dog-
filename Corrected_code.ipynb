{
 "cells": [
  {
   "cell_type": "code",
   "execution_count": 1,
   "metadata": {},
   "outputs": [
    {
     "name": "stderr",
     "output_type": "stream",
     "text": [
      "Using TensorFlow backend.\n"
     ]
    }
   ],
   "source": [
    "import numpy as np\n",
    "import pandas as pd\n",
    "import os\n",
    "import tensorflow as tf\n",
    "import PIL\n",
    "from keras import layers, optimizers\n",
    "from keras.models import Model, model_from_json, Sequential\n",
    "from keras.layers import Input, Activation, Dense, Conv2D, Flatten, ZeroPadding2D, BatchNormalization\n",
    "from keras.layers import MaxPooling2D, AveragePooling2D, Dropout, GlobalMaxPooling2D\n",
    "from keras.utils import to_categorical\n",
    "from keras.optimizers import Adam,SGD\n",
    "from keras.preprocessing.image import ImageDataGenerator, array_to_img, img_to_array\n",
    "from random import seed \n",
    "from random import randint"
   ]
  },
  {
   "cell_type": "code",
   "execution_count": 2,
   "metadata": {},
   "outputs": [],
   "source": [
    "import cv2\n",
    "import matplotlib.pyplot as plt\n",
    "from matplotlib.pyplot import imshow\n",
    "import keras.backend as K\n",
    "K.set_image_data_format('channels_last')\n",
    "from PIL import Image\n"
   ]
  },
  {
   "cell_type": "markdown",
   "metadata": {},
   "source": [
    "directory = os.path.abspath(\"t_train\")\n",
    "print(directory)"
   ]
  },
  {
   "cell_type": "markdown",
   "metadata": {},
   "source": [
    "X = []\n",
    "Y = []\n",
    "i = 0\n",
    "category = ['Cat', 'Dog', 'Chick']\n",
    "for c in category:\n",
    "    path = os.path.join(directory, c)\n",
    "    for file in os.listdir(path):\n",
    "        classes = category.index(c)\n",
    "        Y.append(classes)\n",
    "        img_path = os.path.join(path, file)\n",
    "        img = cv2.imread(img_path, cv2.IMREAD_COLOR)\n",
    "        img_r = cv2.resize(img, (224, 224))\n",
    "        X.append(img_r)\n",
    "        \n",
    "X_train = np.array(X)\n",
    "Y_train = np.array(Y)\n",
    "Y_train = to_categorical(Y_train)\n",
    "cv2.imshow(\"New Image\", X_train[2])\n",
    "cv2.waitKey(0)\n",
    "cv2.destroyAllWindows()"
   ]
  },
  {
   "cell_type": "markdown",
   "metadata": {},
   "source": [
    "np.random.seed(1)\n",
    "m = X_train.shape[0]\n",
    "permutation = list(np.random.permutation(m))\n",
    "print(\"Permutations: \", permutation)\n",
    "X = X_train[permutation, :]\n",
    "Y = Y_train[permutation, :]\n",
    "X_train = X\n",
    "Y_train = Y\n",
    "m = X_train.shape[0]\n",
    "for i in range(m):\n",
    "    cv2.imshow(\"a\"+str(i), X_train[i])\n",
    "print(\"Y_train corresponding to X_train: \",Y_train)\n",
    "cv2.waitKey(0)\n",
    "cv2.destroyAllWindows()"
   ]
  },
  {
   "cell_type": "code",
   "execution_count": 4,
   "metadata": {},
   "outputs": [],
   "source": [
    "from keras.applications import VGG16\n",
    "#vgg_conv = VGG16(weights = 'imagenet', include_top = True)"
   ]
  },
  {
   "cell_type": "markdown",
   "metadata": {},
   "source": [
    "vgg_conv.summary()"
   ]
  },
  {
   "cell_type": "code",
   "execution_count": 6,
   "metadata": {},
   "outputs": [
    {
     "name": "stdout",
     "output_type": "stream",
     "text": [
      "WARNING:tensorflow:From C:\\Users\\Asus\\Anaconda3\\envs\\tensorflow\\lib\\site-packages\\keras\\backend\\tensorflow_backend.py:74: The name tf.get_default_graph is deprecated. Please use tf.compat.v1.get_default_graph instead.\n",
      "\n",
      "WARNING:tensorflow:From C:\\Users\\Asus\\Anaconda3\\envs\\tensorflow\\lib\\site-packages\\keras\\backend\\tensorflow_backend.py:517: The name tf.placeholder is deprecated. Please use tf.compat.v1.placeholder instead.\n",
      "\n",
      "WARNING:tensorflow:From C:\\Users\\Asus\\Anaconda3\\envs\\tensorflow\\lib\\site-packages\\keras\\backend\\tensorflow_backend.py:4138: The name tf.random_uniform is deprecated. Please use tf.random.uniform instead.\n",
      "\n",
      "WARNING:tensorflow:From C:\\Users\\Asus\\Anaconda3\\envs\\tensorflow\\lib\\site-packages\\keras\\backend\\tensorflow_backend.py:3976: The name tf.nn.max_pool is deprecated. Please use tf.nn.max_pool2d instead.\n",
      "\n",
      "WARNING:tensorflow:From C:\\Users\\Asus\\Anaconda3\\envs\\tensorflow\\lib\\site-packages\\keras\\backend\\tensorflow_backend.py:174: The name tf.get_default_session is deprecated. Please use tf.compat.v1.get_default_session instead.\n",
      "\n",
      "WARNING:tensorflow:From C:\\Users\\Asus\\Anaconda3\\envs\\tensorflow\\lib\\site-packages\\keras\\backend\\tensorflow_backend.py:181: The name tf.ConfigProto is deprecated. Please use tf.compat.v1.ConfigProto instead.\n",
      "\n",
      "WARNING:tensorflow:From C:\\Users\\Asus\\Anaconda3\\envs\\tensorflow\\lib\\site-packages\\keras\\backend\\tensorflow_backend.py:186: The name tf.Session is deprecated. Please use tf.compat.v1.Session instead.\n",
      "\n",
      "WARNING:tensorflow:From C:\\Users\\Asus\\Anaconda3\\envs\\tensorflow\\lib\\site-packages\\keras\\backend\\tensorflow_backend.py:190: The name tf.global_variables is deprecated. Please use tf.compat.v1.global_variables instead.\n",
      "\n",
      "WARNING:tensorflow:From C:\\Users\\Asus\\Anaconda3\\envs\\tensorflow\\lib\\site-packages\\keras\\backend\\tensorflow_backend.py:199: The name tf.is_variable_initialized is deprecated. Please use tf.compat.v1.is_variable_initialized instead.\n",
      "\n",
      "WARNING:tensorflow:From C:\\Users\\Asus\\Anaconda3\\envs\\tensorflow\\lib\\site-packages\\keras\\backend\\tensorflow_backend.py:206: The name tf.variables_initializer is deprecated. Please use tf.compat.v1.variables_initializer instead.\n",
      "\n",
      "_________________________________________________________________\n",
      "Layer (type)                 Output Shape              Param #   \n",
      "=================================================================\n",
      "input_1 (InputLayer)         (None, 224, 224, 3)       0         \n",
      "_________________________________________________________________\n",
      "block1_conv1 (Conv2D)        (None, 224, 224, 64)      1792      \n",
      "_________________________________________________________________\n",
      "block1_conv2 (Conv2D)        (None, 224, 224, 64)      36928     \n",
      "_________________________________________________________________\n",
      "block1_pool (MaxPooling2D)   (None, 112, 112, 64)      0         \n",
      "_________________________________________________________________\n",
      "block2_conv1 (Conv2D)        (None, 112, 112, 128)     73856     \n",
      "_________________________________________________________________\n",
      "block2_conv2 (Conv2D)        (None, 112, 112, 128)     147584    \n",
      "_________________________________________________________________\n",
      "block2_pool (MaxPooling2D)   (None, 56, 56, 128)       0         \n",
      "_________________________________________________________________\n",
      "block3_conv1 (Conv2D)        (None, 56, 56, 256)       295168    \n",
      "_________________________________________________________________\n",
      "block3_conv2 (Conv2D)        (None, 56, 56, 256)       590080    \n",
      "_________________________________________________________________\n",
      "block3_conv3 (Conv2D)        (None, 56, 56, 256)       590080    \n",
      "_________________________________________________________________\n",
      "block3_pool (MaxPooling2D)   (None, 28, 28, 256)       0         \n",
      "_________________________________________________________________\n",
      "block4_conv1 (Conv2D)        (None, 28, 28, 512)       1180160   \n",
      "_________________________________________________________________\n",
      "block4_conv2 (Conv2D)        (None, 28, 28, 512)       2359808   \n",
      "_________________________________________________________________\n",
      "block4_conv3 (Conv2D)        (None, 28, 28, 512)       2359808   \n",
      "_________________________________________________________________\n",
      "block4_pool (MaxPooling2D)   (None, 14, 14, 512)       0         \n",
      "_________________________________________________________________\n",
      "block5_conv1 (Conv2D)        (None, 14, 14, 512)       2359808   \n",
      "_________________________________________________________________\n",
      "block5_conv2 (Conv2D)        (None, 14, 14, 512)       2359808   \n",
      "_________________________________________________________________\n",
      "block5_conv3 (Conv2D)        (None, 14, 14, 512)       2359808   \n",
      "_________________________________________________________________\n",
      "block5_pool (MaxPooling2D)   (None, 7, 7, 512)         0         \n",
      "=================================================================\n",
      "Total params: 14,714,688\n",
      "Trainable params: 14,714,688\n",
      "Non-trainable params: 0\n",
      "_________________________________________________________________\n",
      "None\n"
     ]
    }
   ],
   "source": [
    "input_tensor = Input((224, 224, 3))\n",
    "vgg = VGG16(weights = 'imagenet', include_top = False, input_tensor = input_tensor)\n",
    "print(vgg.summary())"
   ]
  },
  {
   "cell_type": "code",
   "execution_count": 7,
   "metadata": {},
   "outputs": [
    {
     "name": "stdout",
     "output_type": "stream",
     "text": [
      "<keras.engine.input_layer.InputLayer object at 0x0000020E75804B08> False\n",
      "<keras.layers.convolutional.Conv2D object at 0x0000020E73891108> False\n",
      "<keras.layers.convolutional.Conv2D object at 0x0000020E75804AC8> False\n",
      "<keras.layers.pooling.MaxPooling2D object at 0x0000020E75869B08> False\n",
      "<keras.layers.convolutional.Conv2D object at 0x0000020E73972C08> False\n",
      "<keras.layers.convolutional.Conv2D object at 0x0000020E738C5108> False\n",
      "<keras.layers.pooling.MaxPooling2D object at 0x0000020E75888BC8> False\n",
      "<keras.layers.convolutional.Conv2D object at 0x0000020E7588FD08> False\n",
      "<keras.layers.convolutional.Conv2D object at 0x0000020E7589BFC8> False\n",
      "<keras.layers.convolutional.Conv2D object at 0x0000020E75896E08> False\n",
      "<keras.layers.pooling.MaxPooling2D object at 0x0000020E758A8D88> False\n",
      "<keras.layers.convolutional.Conv2D object at 0x0000020E758B2448> False\n",
      "<keras.layers.convolutional.Conv2D object at 0x0000020E758B66C8> False\n",
      "<keras.layers.convolutional.Conv2D object at 0x0000020E758BEB08> False\n",
      "<keras.layers.pooling.MaxPooling2D object at 0x0000020E758C6E48> False\n",
      "<keras.layers.convolutional.Conv2D object at 0x0000020E758D2F88> True\n",
      "<keras.layers.convolutional.Conv2D object at 0x0000020E758D7B48> True\n",
      "<keras.layers.convolutional.Conv2D object at 0x0000020E758DFE48> True\n",
      "<keras.layers.pooling.MaxPooling2D object at 0x0000020E758E6EC8> True\n"
     ]
    }
   ],
   "source": [
    "for l in vgg.layers[:-4]:\n",
    "    l.trainable = False\n",
    "for layer in vgg.layers:\n",
    "    print(layer, layer.trainable)"
   ]
  },
  {
   "cell_type": "code",
   "execution_count": 8,
   "metadata": {},
   "outputs": [
    {
     "name": "stdout",
     "output_type": "stream",
     "text": [
      "_________________________________________________________________\n",
      "Layer (type)                 Output Shape              Param #   \n",
      "=================================================================\n",
      "input_1 (InputLayer)         (None, 224, 224, 3)       0         \n",
      "_________________________________________________________________\n",
      "block1_conv1 (Conv2D)        (None, 224, 224, 64)      1792      \n",
      "_________________________________________________________________\n",
      "block1_conv2 (Conv2D)        (None, 224, 224, 64)      36928     \n",
      "_________________________________________________________________\n",
      "block1_pool (MaxPooling2D)   (None, 112, 112, 64)      0         \n",
      "_________________________________________________________________\n",
      "block2_conv1 (Conv2D)        (None, 112, 112, 128)     73856     \n",
      "_________________________________________________________________\n",
      "block2_conv2 (Conv2D)        (None, 112, 112, 128)     147584    \n",
      "_________________________________________________________________\n",
      "block2_pool (MaxPooling2D)   (None, 56, 56, 128)       0         \n",
      "_________________________________________________________________\n",
      "block3_conv1 (Conv2D)        (None, 56, 56, 256)       295168    \n",
      "_________________________________________________________________\n",
      "block3_conv2 (Conv2D)        (None, 56, 56, 256)       590080    \n",
      "_________________________________________________________________\n",
      "block3_conv3 (Conv2D)        (None, 56, 56, 256)       590080    \n",
      "_________________________________________________________________\n",
      "block3_pool (MaxPooling2D)   (None, 28, 28, 256)       0         \n",
      "_________________________________________________________________\n",
      "block4_conv1 (Conv2D)        (None, 28, 28, 512)       1180160   \n",
      "_________________________________________________________________\n",
      "block4_conv2 (Conv2D)        (None, 28, 28, 512)       2359808   \n",
      "_________________________________________________________________\n",
      "block4_conv3 (Conv2D)        (None, 28, 28, 512)       2359808   \n",
      "_________________________________________________________________\n",
      "block4_pool (MaxPooling2D)   (None, 14, 14, 512)       0         \n",
      "_________________________________________________________________\n",
      "block5_conv1 (Conv2D)        (None, 14, 14, 512)       2359808   \n",
      "_________________________________________________________________\n",
      "block5_conv2 (Conv2D)        (None, 14, 14, 512)       2359808   \n",
      "_________________________________________________________________\n",
      "block5_conv3 (Conv2D)        (None, 14, 14, 512)       2359808   \n",
      "_________________________________________________________________\n",
      "block5_pool (MaxPooling2D)   (None, 7, 7, 512)         0         \n",
      "_________________________________________________________________\n",
      "flatten_1 (Flatten)          (None, 25088)             0         \n",
      "_________________________________________________________________\n",
      "dense_1 (Dense)              (None, 256)               6422784   \n",
      "_________________________________________________________________\n",
      "dense_2 (Dense)              (None, 256)               65792     \n",
      "_________________________________________________________________\n",
      "dense_3 (Dense)              (None, 3)                 771       \n",
      "=================================================================\n",
      "Total params: 21,204,035\n",
      "Trainable params: 13,568,771\n",
      "Non-trainable params: 7,635,264\n",
      "_________________________________________________________________\n",
      "None\n",
      "<keras.engine.input_layer.InputLayer object at 0x0000020E75804B08> False\n",
      "<keras.layers.convolutional.Conv2D object at 0x0000020E73891108> False\n",
      "<keras.layers.convolutional.Conv2D object at 0x0000020E75804AC8> False\n",
      "<keras.layers.pooling.MaxPooling2D object at 0x0000020E75869B08> False\n",
      "<keras.layers.convolutional.Conv2D object at 0x0000020E73972C08> False\n",
      "<keras.layers.convolutional.Conv2D object at 0x0000020E738C5108> False\n",
      "<keras.layers.pooling.MaxPooling2D object at 0x0000020E75888BC8> False\n",
      "<keras.layers.convolutional.Conv2D object at 0x0000020E7588FD08> False\n",
      "<keras.layers.convolutional.Conv2D object at 0x0000020E7589BFC8> False\n",
      "<keras.layers.convolutional.Conv2D object at 0x0000020E75896E08> False\n",
      "<keras.layers.pooling.MaxPooling2D object at 0x0000020E758A8D88> False\n",
      "<keras.layers.convolutional.Conv2D object at 0x0000020E758B2448> False\n",
      "<keras.layers.convolutional.Conv2D object at 0x0000020E758B66C8> False\n",
      "<keras.layers.convolutional.Conv2D object at 0x0000020E758BEB08> False\n",
      "<keras.layers.pooling.MaxPooling2D object at 0x0000020E758C6E48> False\n",
      "<keras.layers.convolutional.Conv2D object at 0x0000020E758D2F88> True\n",
      "<keras.layers.convolutional.Conv2D object at 0x0000020E758D7B48> True\n",
      "<keras.layers.convolutional.Conv2D object at 0x0000020E758DFE48> True\n",
      "<keras.layers.pooling.MaxPooling2D object at 0x0000020E758E6EC8> True\n",
      "<keras.layers.core.Flatten object at 0x0000020E790EE508> True\n",
      "<keras.layers.core.Dense object at 0x0000020E790EE548> True\n",
      "<keras.layers.core.Dense object at 0x0000020E790E2D08> True\n",
      "<keras.layers.core.Dense object at 0x0000020E790F6948> True\n"
     ]
    }
   ],
   "source": [
    "X = vgg.layers[-1].output\n",
    "X = Flatten()(X)\n",
    "X = Dense(256, activation = 'relu')(X)\n",
    "X = Dense(256, activation = 'relu')(X)\n",
    "X = Dense(3, activation = 'softmax')(X)\n",
    "model_vgg = Model(vgg.input, X)\n",
    "print(model_vgg.summary())\n",
    "for layer in model_vgg.layers:\n",
    "    print(layer, layer.trainable)"
   ]
  },
  {
   "cell_type": "code",
   "execution_count": 9,
   "metadata": {},
   "outputs": [
    {
     "name": "stdout",
     "output_type": "stream",
     "text": [
      "Found 297 images belonging to 3 classes.\n",
      "Found 89 images belonging to 3 classes.\n"
     ]
    }
   ],
   "source": [
    "train_datagen = ImageDataGenerator(rescale = 1./255,\n",
    "                                  rotation_range = 20,\n",
    "                                  width_shift_range = 0.2,\n",
    "                                  height_shift_range = 0.2,\n",
    "                                  horizontal_flip = True,\n",
    "                                  fill_mode = 'nearest')\n",
    "validation_datagen = ImageDataGenerator(rescale = 1./255)\n",
    "\n",
    "train_batchsize = 100\n",
    "validation_batchsize = 10\n",
    "\n",
    "train_generator = train_datagen.flow_from_directory('Transfer_Train',\n",
    "                                 target_size = (224, 224),\n",
    "                                 batch_size = train_batchsize,\n",
    "                                 class_mode = 'categorical',\n",
    "                                 )\n",
    "\n",
    "validation_generator = validation_datagen.flow_from_directory('Transfer_vali',\n",
    "                                 target_size = (224, 224),\n",
    "                                 batch_size = validation_batchsize,\n",
    "                                 class_mode = 'categorical',\n",
    "                                 shuffle = False,\n",
    "                                 )"
   ]
  },
  {
   "cell_type": "code",
   "execution_count": 13,
   "metadata": {},
   "outputs": [
    {
     "name": "stdout",
     "output_type": "stream",
     "text": [
      "Epoch 1/10\n",
      "3/2 [==============================] - 294s 98s/step - loss: 1.1065 - acc: 0.3503 - val_loss: 1.1035 - val_acc: 0.3371\n",
      "Epoch 2/10\n",
      "3/2 [==============================] - 271s 90s/step - loss: 1.0999 - acc: 0.3534 - val_loss: 1.0985 - val_acc: 0.3371\n",
      "Epoch 3/10\n",
      "3/2 [==============================] - 275s 92s/step - loss: 1.0987 - acc: 0.3464 - val_loss: 1.0989 - val_acc: 0.3371\n",
      "Epoch 4/10\n",
      "3/2 [==============================] - 273s 91s/step - loss: 1.1018 - acc: 0.2961 - val_loss: 1.0987 - val_acc: 0.3371\n",
      "Epoch 5/10\n",
      "3/2 [==============================] - 274s 91s/step - loss: 1.0979 - acc: 0.3605 - val_loss: 1.0987 - val_acc: 0.3371\n",
      "Epoch 6/10\n",
      "3/2 [==============================] - 269s 90s/step - loss: 1.0986 - acc: 0.3466 - val_loss: 1.0986 - val_acc: 0.3371\n",
      "Epoch 7/10\n",
      "3/2 [==============================] - 270s 90s/step - loss: 1.0997 - acc: 0.3230 - val_loss: 1.0985 - val_acc: 0.3371\n",
      "Epoch 8/10\n",
      "3/2 [==============================] - 267s 89s/step - loss: 1.0979 - acc: 0.3400 - val_loss: 1.0985 - val_acc: 0.3371\n",
      "Epoch 9/10\n",
      "3/2 [==============================] - 265s 88s/step - loss: 1.0998 - acc: 0.3433 - val_loss: 1.0986 - val_acc: 0.3371\n",
      "Epoch 10/10\n",
      "3/2 [==============================] - 9234s 3078s/step - loss: 1.0984 - acc: 0.3298 - val_loss: 1.0986 - val_acc: 0.3371\n"
     ]
    }
   ],
   "source": [
    "model_vgg.compile(loss = 'categorical_crossentropy', optimizer = Adam(lr = 1e-2), metrics = ['accuracy'])\n",
    "history = model_vgg.fit_generator(train_generator,\n",
    "                              steps_per_epoch=train_generator.samples/train_generator.batch_size,\n",
    "                              epochs = 10,\n",
    "                              validation_data = validation_generator,\n",
    "                              validation_steps=validation_generator.samples/validation_generator.batch_size,\n",
    "                              verbose = 1)\n",
    "#model_vgg.fit(X_train, Y_train, epochs = 10)"
   ]
  },
  {
   "cell_type": "code",
   "execution_count": 11,
   "metadata": {},
   "outputs": [],
   "source": [
    "#model_vgg.predict(X_train)"
   ]
  },
  {
   "cell_type": "code",
   "execution_count": 12,
   "metadata": {},
   "outputs": [],
   "source": [
    "#print(Y_train)"
   ]
  },
  {
   "cell_type": "code",
   "execution_count": null,
   "metadata": {},
   "outputs": [],
   "source": []
  }
 ],
 "metadata": {
  "kernelspec": {
   "display_name": "Python 3",
   "language": "python",
   "name": "python3"
  },
  "language_info": {
   "codemirror_mode": {
    "name": "ipython",
    "version": 3
   },
   "file_extension": ".py",
   "mimetype": "text/x-python",
   "name": "python",
   "nbconvert_exporter": "python",
   "pygments_lexer": "ipython3",
   "version": "3.7.6"
  }
 },
 "nbformat": 4,
 "nbformat_minor": 2
}
